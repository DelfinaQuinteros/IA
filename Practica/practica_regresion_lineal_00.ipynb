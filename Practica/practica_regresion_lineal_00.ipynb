{
  "nbformat": 4,
  "nbformat_minor": 0,
  "metadata": {
    "colab": {
      "name": "practica_regresion_lineal_00.ipynb",
      "provenance": [],
      "authorship_tag": "ABX9TyM4IT7uAmlDv1P6fDc3nP0i"
    },
    "kernelspec": {
      "name": "python3",
      "display_name": "Python 3"
    },
    "language_info": {
      "name": "python"
    }
  },
  "cells": [
    {
      "cell_type": "markdown",
      "source": [
        "# Ejercicio practico de regresion lineal simple.\n",
        "\n",
        "En esta practica vamos a intentar conocer los valores de **intercepto** y **pendiente**.\n",
        "\n",
        "Vamos a buscar b0 y b1 para la regresion lineal simple\n",
        "\n",
        "y = b0 +b1*x\n"
      ],
      "metadata": {
        "id": "gXd2ivQn-TYh"
      }
    },
    {
      "cell_type": "code",
      "execution_count": null,
      "metadata": {
        "id": "E1O8W1M79skh"
      },
      "outputs": [],
      "source": [
        "import numpy as np"
      ]
    },
    {
      "cell_type": "markdown",
      "source": [
        "**Creamos** **un** **set** **de** **datos**\n",
        "\n",
        "\n",
        "Para esto proponemos conjunto de datos que se relacionen: y = 1-x + 10"
      ],
      "metadata": {
        "id": "l4S5H5Fg-Qhq"
      }
    },
    {
      "cell_type": "code",
      "source": [
        "X = np.arange(1, 300, 1) # arange (start, stop, step)\n",
        "print(f\"X 5 sample: {X[:5]}, x shape: {X.shape}, x type: {type(X)}\")"
      ],
      "metadata": {
        "id": "WJK75lxE-Nwf",
        "colab": {
          "base_uri": "https://localhost:8080/"
        },
        "outputId": "c33c0d5c-f86d-422b-caa5-a0e983be1d60"
      },
      "execution_count": 75,
      "outputs": [
        {
          "output_type": "stream",
          "name": "stdout",
          "text": [
            "X 5 sample: [1 2 3 4 5], x shape: (299,), x type: <class 'numpy.ndarray'>\n"
          ]
        }
      ]
    },
    {
      "cell_type": "code",
      "source": [
        "# Creamos una variable 'y' relacionada con 'x'\n",
        "y = np.arange(11, 310, 1)\n",
        "print(f\"Y 5 sample: {Y[:5]}, y shape: {Y.shape}, y type: {type(Y)}\")"
      ],
      "metadata": {
        "colab": {
          "base_uri": "https://localhost:8080/"
        },
        "id": "g8RiagLr_zYn",
        "outputId": "1e5d1509-554d-45c1-9c15-8a81436179bc"
      },
      "execution_count": 84,
      "outputs": [
        {
          "output_type": "stream",
          "name": "stdout",
          "text": [
            "Y 5 sample: [11 12 13 14 15], y shape: (299,), y type: <class 'numpy.ndarray'>\n"
          ]
        }
      ]
    },
    {
      "cell_type": "code",
      "source": [
        "import matplotlib.pyplot as plt\n"
      ],
      "metadata": {
        "id": "ELq0FkKnAKzf"
      },
      "execution_count": 77,
      "outputs": []
    },
    {
      "cell_type": "code",
      "source": [
        "plt.figure(figsize=(5,5))\n",
        "plt.scatter(X,y,c='orange', s=4, label='Linear relation')\n",
        "plt.legend()\n",
        "plt.title('Dataset Original');"
      ],
      "metadata": {
        "colab": {
          "base_uri": "https://localhost:8080/",
          "height": 336
        },
        "id": "_oHPYTc9AXI2",
        "outputId": "e81bfe03-7fdf-43c2-fcb7-5aca2faf15a3"
      },
      "execution_count": 85,
      "outputs": [
        {
          "output_type": "display_data",
          "data": {
            "text/plain": [
              "<Figure size 360x360 with 1 Axes>"
            ],
            "image/png": "[encoded data removed]"
          },
          "metadata": {
            "needs_background": "light"
          }
        }
      ]
    },
    {
      "cell_type": "code",
      "source": [
        "plt.scatter(X, y)"
      ],
      "metadata": {
        "colab": {
          "base_uri": "https://localhost:8080/",
          "height": 282
        },
        "id": "AvWLHo2yCWJ8",
        "outputId": "d1f261a5-ba36-41f0-975a-3dcd4327a492"
      },
      "execution_count": 86,
      "outputs": [
        {
          "output_type": "execute_result",
          "data": {
            "text/plain": [
              "<matplotlib.collections.PathCollection at 0x7f602eba95d0>"
            ]
          },
          "metadata": {},
          "execution_count": 86
        },
        {
          "output_type": "display_data",
          "data": {
            "text/plain": [
              "<Figure size 432x288 with 1 Axes>"
            ],
            "image/png": "[encoded data removed]"
          },
          "metadata": {
            "needs_background": "light"
          }
        }
      ]
    },
    {
      "cell_type": "markdown",
      "source": [
        "## Separar los datos\n",
        "\n",
        "Separar los datos para **entrenar** un modelo, por lo general se utiliza el 80% del total de dataset.\n",
        "\n",
        "Para **validar** el modelo durante el entrenamiento se usa el 10% del total restante.\n",
        "\n",
        "Para **testear** el modelo durante el entrenamiento usamos el otro 10% restante."
      ],
      "metadata": {
        "id": "2iOSJKEYCf5R"
      }
    },
    {
      "cell_type": "code",
      "source": [
        "split = int(len(X)*0.8)\n",
        "print(f\"Los datos para entrenar el modelo son: {split}\")\n",
        "\n",
        "test = int((len(X)-split))\n",
        "print(f\"20% de los datos finales: {test}\")\n",
        "\n",
        "mid_test = test//2\n",
        "print(f\"mid test: {mid_test}\")"
      ],
      "metadata": {
        "colab": {
          "base_uri": "https://localhost:8080/"
        },
        "id": "Y_TFm0RpB-c8",
        "outputId": "5a0bf301-24e8-4512-c975-a1362b21a84f"
      },
      "execution_count": 80,
      "outputs": [
        {
          "output_type": "stream",
          "name": "stdout",
          "text": [
            "Los datos para entrenar el modelo son: 239\n",
            "20% de los datos finales: 60\n",
            "mid test: 30\n"
          ]
        }
      ]
    },
    {
      "cell_type": "code",
      "source": [
        "X_train = X[:split] # se toma en cuenta todo hasta el valor de split (239)\n",
        "X_val = X[split:split+mid_test]\n",
        "X_test = X[split+mid_test:]\n",
        "print(f\"Train: {X_train.shape}, Validation: {X_val.shape}, Test {X_test.shape}\")"
      ],
      "metadata": {
        "colab": {
          "base_uri": "https://localhost:8080/"
        },
        "id": "tIK4KxICDdk-",
        "outputId": "3cd2d64e-4d51-4102-97ea-793fe39444ce"
      },
      "execution_count": 81,
      "outputs": [
        {
          "output_type": "stream",
          "name": "stdout",
          "text": [
            "Train: (239,), Validation: (30,), Test (30,)\n"
          ]
        }
      ]
    },
    {
      "cell_type": "code",
      "source": [
        "y_train = y[:split] # se toma en cuenta todo hasta el valor de split (239)\n",
        "y_val = y[split:split+mid_test]\n",
        "y_test = y[split+mid_test:]\n",
        "print(f\"Train: {y_train.shape}, Validation: {y_val.shape}, Test {y_test.shape}\")"
      ],
      "metadata": {
        "colab": {
          "base_uri": "https://localhost:8080/"
        },
        "id": "hvwXTrKKDzEj",
        "outputId": "6509c73d-227c-48b1-ca13-3063878f1bac"
      },
      "execution_count": 87,
      "outputs": [
        {
          "output_type": "stream",
          "name": "stdout",
          "text": [
            "Train: (239,), Validation: (30,), Test (30,)\n"
          ]
        }
      ]
    },
    {
      "cell_type": "code",
      "source": [
        "plt.figure(figsize=(10, 7))\n",
        "plt.scatter(X_train,y_train,c='orange', label='Train')\n",
        "plt.scatter(X_val,y_val,c='green', label='Validation')\n",
        "plt.scatter(X_test,y_test,c='purple', label='Test')\n",
        "plt.legend;\n"
      ],
      "metadata": {
        "colab": {
          "base_uri": "https://localhost:8080/",
          "height": 428
        },
        "id": "1nXzEuM2Fwzy",
        "outputId": "587bfa62-e34b-4e06-cf43-092a7b93059d"
      },
      "execution_count": 88,
      "outputs": [
        {
          "output_type": "display_data",
          "data": {
            "text/plain": [
              "<Figure size 720x504 with 1 Axes>"
            ],
            "image/png": "[encoded data removed]"
          },
          "metadata": {
            "needs_background": "light"
          }
        }
      ]
    },
    {
      "cell_type": "markdown",
      "source": [
        "## Separamos datos de forma random\n",
        "\n",
        "El metodo de separacion de datos en entrenamiento, test y validacion con sklearn no es posible. Solo permite separar en entrenamiento y test."
      ],
      "metadata": {
        "id": "EKXbRklHHpKp"
      }
    },
    {
      "cell_type": "code",
      "source": [
        "from sklearn.model_selection import train_test_split \n",
        "Xtrain, Xtest, ytrain, ytest = train_test_split(X, y, test_size=0.2, random_state=42)  #random_state sirve para repetir los mismo valores cada vez que se ejecuta la celda\n",
        "print(f\"Xtrain length: {len(Xtrain)}, ytrain length: {len(ytrain)}\")\n",
        "print(f\"Xtest length: {len(Xtest)}, ytest length: {len(ytest)}\")"
      ],
      "metadata": {
        "colab": {
          "base_uri": "https://localhost:8080/"
        },
        "id": "3_EBSCOcHE-R",
        "outputId": "4ef4f8b1-b0e5-484e-9450-797c9cd8a976"
      },
      "execution_count": 89,
      "outputs": [
        {
          "output_type": "stream",
          "name": "stdout",
          "text": [
            "Xtrain length: 239, ytrain length: 239\n",
            "Xtest length: 60, ytest length: 60\n"
          ]
        }
      ]
    },
    {
      "cell_type": "code",
      "source": [
        "#Visualizamos los datos de entrenamiento y testeo\n",
        "plt.figure(figsize=(12,7))\n",
        "plt.subplot(1,2,1)\n",
        "plt.scatter(x,y,c='purple',s=2)\n",
        "plt.title(\"Full dataset\")\n",
        "plt.subplot(1,2,2)\n",
        "plt.scatter(Xtrain,ytrain,c='orange',s=4,label='Train set')\n",
        "plt.scatter(Xtest,ytest,c='green',s=6,label='Test set')\n",
        "plt.title(\"Randomize splited set\")\n",
        "plt.legend();"
      ],
      "metadata": {
        "colab": {
          "base_uri": "https://localhost:8080/",
          "height": 444
        },
        "id": "U7by95aAHVxq",
        "outputId": "4b41b732-180f-463b-eec9-0db597e2f522"
      },
      "execution_count": 90,
      "outputs": [
        {
          "output_type": "display_data",
          "data": {
            "text/plain": [
              "<Figure size 864x504 with 2 Axes>"
            ],
            "image/png": "[encoded data removed]"
          },
          "metadata": {
            "needs_background": "light"
          }
        }
      ]
    },
    {
      "cell_type": "markdown",
      "source": [
        "## Armamos nuestro modelo de regresion lineal simple. \n",
        "\n",
        "Vamos a implementar la regresion de OLS (minimos cuadrados ordinarios).\n",
        "\n",
        "Esto lo vamos a hacer con sklearn.\n",
        "\n",
        "Para entrenar el modelo usamos el metodo .fit()"
      ],
      "metadata": {
        "id": "YFcQ2WkeJz7p"
      }
    },
    {
      "cell_type": "code",
      "source": [
        "from sklearn.linear_model import LinearRegression"
      ],
      "metadata": {
        "id": "1Ox34rOFKCw8"
      },
      "execution_count": 58,
      "outputs": []
    },
    {
      "cell_type": "code",
      "source": [
        "linear_model = LinearRegression()"
      ],
      "metadata": {
        "id": "aJJBRkw6KJmd"
      },
      "execution_count": 59,
      "outputs": []
    },
    {
      "cell_type": "code",
      "source": [
        "X_train.reshape(-1, 1).shape\n",
        "y_train.reshape(-1, 1).shape"
      ],
      "metadata": {
        "colab": {
          "base_uri": "https://localhost:8080/"
        },
        "id": "1j29Xz1cK621",
        "outputId": "27615ccd-7a1b-43ea-b5ea-29fe75e22975"
      },
      "execution_count": 91,
      "outputs": [
        {
          "output_type": "execute_result",
          "data": {
            "text/plain": [
              "(239, 1)"
            ]
          },
          "metadata": {},
          "execution_count": 91
        }
      ]
    },
    {
      "cell_type": "code",
      "source": [
        "linear_model.fit(X_train.reshape(-1, 1), y_train.reshape(-1, 1)) # El formato que requiere el metodo es que x_train = (n°sample, n°features)"
      ],
      "metadata": {
        "colab": {
          "base_uri": "https://localhost:8080/"
        },
        "id": "Gm16H6OhKU4H",
        "outputId": "b19d22ca-709d-42ae-dc5f-71bcdc07c326"
      },
      "execution_count": 92,
      "outputs": [
        {
          "output_type": "execute_result",
          "data": {
            "text/plain": [
              "LinearRegression()"
            ]
          },
          "metadata": {},
          "execution_count": 92
        }
      ]
    },
    {
      "cell_type": "code",
      "source": [
        "## Un modelo de regresion busca dos valores, b0 y b1\n",
        "# Para ver esos valores que aproximo el modelo LinearRegression usamos los atributos .coef_ y .intercept_ \n",
        "\n",
        "linear_model.coef_, linear_model.intercept_"
      ],
      "metadata": {
        "colab": {
          "base_uri": "https://localhost:8080/"
        },
        "id": "krN6PH61LS5z",
        "outputId": "06200838-9303-4d05-ceb8-b9a2df4ac8e6"
      },
      "execution_count": 93,
      "outputs": [
        {
          "output_type": "execute_result",
          "data": {
            "text/plain": [
              "(array([[1.]]), array([10.]))"
            ]
          },
          "metadata": {},
          "execution_count": 93
        }
      ]
    },
    {
      "cell_type": "code",
      "source": [
        "# Predecir usando esos valores de b0 y b1 que el modelo aproximo.\n",
        "\n",
        "y_pred = linear_model.predict(Xtest.reshape(-1,1))\n",
        "y_pred.shape"
      ],
      "metadata": {
        "colab": {
          "base_uri": "https://localhost:8080/"
        },
        "id": "KqYjcRv1Lzyw",
        "outputId": "75028e2f-a49c-45af-daca-193aee71acd4"
      },
      "execution_count": 108,
      "outputs": [
        {
          "output_type": "execute_result",
          "data": {
            "text/plain": [
              "(60, 1)"
            ]
          },
          "metadata": {},
          "execution_count": 108
        }
      ]
    },
    {
      "cell_type": "code",
      "source": [
        "plt.figure(figsize=(7,7))\n",
        "plt.scatter(Xtest,y_pred.squeeze(),c='green', s=12,label='Entrenamiento')\n",
        "plt.scatter(Xtest,ytest, c='purple', s=2,label='Test')\n",
        "plt.legend();"
      ],
      "metadata": {
        "colab": {
          "base_uri": "https://localhost:8080/",
          "height": 428
        },
        "id": "Dn-vLFyKMVGp",
        "outputId": "99391da7-158c-41a1-fc66-b855349b4671"
      },
      "execution_count": 109,
      "outputs": [
        {
          "output_type": "display_data",
          "data": {
            "text/plain": [
              "<Figure size 504x504 with 1 Axes>"
            ],
            "image/png": "[encoded data removed]"
          },
          "metadata": {
            "needs_background": "light"
          }
        }
      ]
    }
  ]
}